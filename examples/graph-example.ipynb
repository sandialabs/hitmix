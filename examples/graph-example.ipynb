{
 "cells": [
  {
   "cell_type": "markdown",
   "metadata": {},
   "source": [
    "# Python HITMIX Example: Graph Analysis\n",
    "\n",
    "In this notebook, we demonstrate the use of HITMIX for computing _hitting time moments_ for a set of vertices in a graph.\n",
    "\n",
    "```\n",
    "Copyright 2021 National Technology & Engineering Solutions of Sandia,\n",
    "LLC (NTESS). Under the terms of Contract DE-NA0003525 with NTESS, the\n",
    "U.S. Government retains certain rights in this software.\n",
    "```"
   ]
  },
  {
   "cell_type": "markdown",
   "metadata": {},
   "source": [
    "## Authors\n",
    "* Danny Dunlavy (dmdunla@sandia.gov)"
   ]
  },
  {
   "cell_type": "markdown",
   "metadata": {},
   "source": [
    "## Load package dependencies"
   ]
  },
  {
   "cell_type": "code",
   "execution_count": 1,
   "metadata": {
    "scrolled": true
   },
   "outputs": [],
   "source": [
    "# Hitting time moment computation\n",
    "import hitmix\n",
    "\n",
    "# Data objects\n",
    "import numpy as np\n",
    "from scipy.sparse import csr_matrix, coo_matrix\n",
    "\n",
    "# Plotting\n",
    "import matplotlib.pyplot as plt\n",
    "%matplotlib inline"
   ]
  },
  {
   "cell_type": "markdown",
   "metadata": {},
   "source": [
    "## Example 1: Single-component Graph\n",
    "\n",
    "This graph has 5 vertices and 1 connected component. \n",
    "\n",
    "Vertices that are part of the hitting set will have hitting time moment values of 0."
   ]
  },
  {
   "cell_type": "markdown",
   "metadata": {},
   "source": [
    "<img align=\"left\" src=\"graphviz/example-1.png\" height=\"200\"/>"
   ]
  },
  {
   "cell_type": "code",
   "execution_count": 2,
   "metadata": {},
   "outputs": [
    {
     "name": "stdout",
     "output_type": "stream",
     "text": [
      "Adjacency matrix (A1) =\n",
      "[[0 1 0 0 0]\n",
      " [1 0 1 1 0]\n",
      " [0 1 0 0 1]\n",
      " [0 1 0 0 1]\n",
      " [0 0 1 1 0]]\n"
     ]
    }
   ],
   "source": [
    "# create adjacency matrix\n",
    "n1 = 5\n",
    "row1 = np.array([0, 1, 1, 2, 3])\n",
    "col1 = np.array([1, 2, 3, 4, 4])\n",
    "data1 = np.array([1, 1, 1, 1, 1])\n",
    "A1 = coo_matrix((data1, (row1, col1)), shape=(n1, n1))\n",
    "A1 = A1 + A1.T\n",
    "print(f\"Adjacency matrix (A1) =\\n{A1.todense()}\")"
   ]
  },
  {
   "cell_type": "code",
   "execution_count": 3,
   "metadata": {},
   "outputs": [],
   "source": [
    "# define hitting set indices\n",
    "omega1 = np.array([0])"
   ]
  },
  {
   "cell_type": "code",
   "execution_count": 4,
   "metadata": {},
   "outputs": [],
   "source": [
    "# compute hitting time moments\n",
    "ETm1, cg_info1 = hitmix.hitting_time_moments(A1, omega1)"
   ]
  },
  {
   "cell_type": "code",
   "execution_count": 5,
   "metadata": {},
   "outputs": [
    {
     "name": "stdout",
     "output_type": "stream",
     "text": [
      "[[ 0.          0.        ]\n",
      " [ 9.         10.58300524]\n",
      " [12.         10.95445115]\n",
      " [12.         10.95445115]\n",
      " [13.         10.95445115]]\n"
     ]
    }
   ],
   "source": [
    "# view results\n",
    "print(ETm1)"
   ]
  },
  {
   "cell_type": "markdown",
   "metadata": {},
   "source": [
    "## Example 2: Graph with disconnected components\n",
    "\n",
    "This graph has 5 vertices and 2 disconnected components. \n",
    "\n",
    "Vertices that are unreachable from the hitting set will have hitting time moment values of $\\infty$."
   ]
  },
  {
   "cell_type": "markdown",
   "metadata": {},
   "source": [
    "<img align=\"left\" src=\"graphviz/example-2.png\" height=\"200\"/>"
   ]
  },
  {
   "cell_type": "code",
   "execution_count": 6,
   "metadata": {},
   "outputs": [
    {
     "name": "stdout",
     "output_type": "stream",
     "text": [
      "Adjacency matrix (A2) =\n",
      "[[0 1 0 0 0]\n",
      " [1 0 0 0 0]\n",
      " [0 0 0 1 0]\n",
      " [0 0 1 0 1]\n",
      " [0 0 0 1 0]]\n"
     ]
    }
   ],
   "source": [
    "# create adjacency matrix\n",
    "n2 = 5\n",
    "row2 = np.array([0, 2, 3])\n",
    "col2 = np.array([1, 3, 4])\n",
    "data2 = np.array([1, 1, 1])\n",
    "A2 = coo_matrix((data2, (row2, col2)), shape=(n2, n2))\n",
    "A2 = A2 + A2.T\n",
    "print(f\"Adjacency matrix (A2) =\\n{A2.todense()}\")"
   ]
  },
  {
   "cell_type": "code",
   "execution_count": 7,
   "metadata": {},
   "outputs": [],
   "source": [
    "# define hitting set indices\n",
    "omega2 = np.array([2])"
   ]
  },
  {
   "cell_type": "code",
   "execution_count": 8,
   "metadata": {},
   "outputs": [],
   "source": [
    "# compute hitting time moments\n",
    "ETm2, cg_info2 = hitmix.hitting_time_moments(A2, omega2)"
   ]
  },
  {
   "cell_type": "code",
   "execution_count": 9,
   "metadata": {},
   "outputs": [
    {
     "name": "stdout",
     "output_type": "stream",
     "text": [
      "[[       inf        inf]\n",
      " [       inf        inf]\n",
      " [0.         0.        ]\n",
      " [3.         2.82842712]\n",
      " [4.         2.82842712]]\n"
     ]
    }
   ],
   "source": [
    "# view results\n",
    "print(ETm2)"
   ]
  },
  {
   "cell_type": "code",
   "execution_count": null,
   "metadata": {},
   "outputs": [],
   "source": []
  }
 ],
 "metadata": {
  "kernelspec": {
   "display_name": "Python 3",
   "language": "python",
   "name": "python3"
  },
  "language_info": {
   "codemirror_mode": {
    "name": "ipython",
    "version": 3
   },
   "file_extension": ".py",
   "mimetype": "text/x-python",
   "name": "python",
   "nbconvert_exporter": "python",
   "pygments_lexer": "ipython3",
   "version": "3.8.8"
  }
 },
 "nbformat": 4,
 "nbformat_minor": 4
}
